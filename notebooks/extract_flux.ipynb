{
 "cells": [
  {
   "cell_type": "code",
   "execution_count": 1,
   "metadata": {},
   "outputs": [],
   "source": [
    "import numpy as np\n",
    "import matplotlib.pyplot as plt\n",
    "import pandas as pd\n",
    "from xenu import full_path"
   ]
  },
  {
   "cell_type": "markdown",
   "metadata": {},
   "source": [
    "## Flux data\n",
    "\n",
    "From Haxton 2013 solar $\\nu$ review paper "
   ]
  },
  {
   "cell_type": "code",
   "execution_count": 2,
   "metadata": {
    "collapsed": true
   },
   "outputs": [],
   "source": [
    "# in units of cm^{-2} s^{-1}\n",
    "\n",
    "# if model not stated, comes from Solar data\n",
    "\n",
    "total_flux = dict(pp=6.05e10,\n",
    "                  pep=1.46e8,\n",
    "                  be7=4.82e9,\n",
    "                  b8=5e6,\n",
    "                  hep=8.04e3,  # GS98 model\n",
    "                  n13=2.96e8,  # GS98 model\n",
    "                  o15=2.23e8,  # GS98 model\n",
    "                  f17=5.52e6   # GS98 model\n",
    "                  )\n",
    "\n",
    "diff_flux = {}"
   ]
  },
  {
   "cell_type": "markdown",
   "metadata": {},
   "source": [
    "## Extract energy spectra"
   ]
  },
  {
   "cell_type": "code",
   "execution_count": 3,
   "metadata": {},
   "outputs": [],
   "source": [
    "# pp \n",
    "Es = []\n",
    "ps = []\n",
    "\n",
    "with open(full_path('data/energy_spectra/pp.txt')) as f:\n",
    "    data = f.read().split('\\n\\n')[-1].strip()\n",
    "    E_indices = [0, 2, 4, 6]\n",
    "    p_indices = [1, 3, 5, 7]\n",
    "    for E_i, p_i in zip(E_indices, p_indices):\n",
    "        for line in data.split('\\n'):\n",
    "            split = line.split()\n",
    "            Es.append(float(split[E_i]))\n",
    "            ps.append(float(split[p_i]))\n",
    "\n",
    "Es = np.array(Es)\n",
    "ps = np.array(ps)\n",
    "\n",
    "flux = ps * total_flux['pp']\n",
    "diff_flux['pp'] = dict(x=Es, y=flux)"
   ]
  },
  {
   "cell_type": "code",
   "execution_count": 4,
   "metadata": {
    "collapsed": true
   },
   "outputs": [],
   "source": [
    "# pep\n",
    "# line source at 1.44 MeV\n",
    "\n",
    "Es = np.linspace(0, 1.44*2, 101)\n",
    "ps = np.zeros_like(Es)\n",
    "ps[50] = 1\n",
    "\n",
    "Es = np.array(Es)\n",
    "ps = np.array(ps)\n",
    "\n",
    "flux = ps * total_flux['pep']\n",
    "diff_flux['pep'] = dict(x=Es, y=flux)"
   ]
  },
  {
   "cell_type": "code",
   "execution_count": 5,
   "metadata": {},
   "outputs": [
    {
     "data": {
      "image/png": "[encoded data removed]",
      "text/plain": [
       "<matplotlib.figure.Figure at 0x114bbdf28>"
      ]
     },
     "metadata": {},
     "output_type": "display_data"
    }
   ],
   "source": [
    "# beryllium-7\n",
    "# two line sources at (1) 861.3 keV and (2) 384.3 keV\n",
    "\n",
    "Es1 = np.linspace(0, 384.3*2, 1001)\n",
    "ps1 = np.zeros_like(Es1)\n",
    "ps1[500] = 1\n",
    "\n",
    "Es2 = np.linspace(0, 861.3*2, 1001)\n",
    "ps2 = np.zeros_like(Es1)\n",
    "ps2[500] = 1\n",
    "\n",
    "idx2 = np.where(Es2 > max(Es1))[0]\n",
    "Es = np.hstack((Es1, Es2[idx2]))\n",
    "\n",
    "ps = np.zeros_like(Es)\n",
    "# include branching ratios -- see Haxton review (2013)\n",
    "ps[:1001] = 0.1*ps1\n",
    "ps[1001:] = 0.9*ps2[idx2]\n",
    "\n",
    "# normalize\n",
    "ps = ps / np.trapz(ps, Es)\n",
    "\n",
    "# convert to MeV\n",
    "Es = Es/1000\n",
    "flux = total_flux['be7']*ps\n",
    "diff_flux['be7'] = dict(x=Es, y=flux)\n",
    "\n",
    "plt.plot(Es, flux)\n",
    "plt.show()"
   ]
  },
  {
   "cell_type": "code",
   "execution_count": 6,
   "metadata": {
    "collapsed": true
   },
   "outputs": [],
   "source": [
    "# boron-8 \n",
    "Es = []\n",
    "ps = []\n",
    "\n",
    "with open(full_path('data/energy_spectra/b8.txt')) as f:\n",
    "    data = f.read().split('.....\\n')[1].strip()\n",
    "    for line in data.split('\\n'):\n",
    "        split = line.split()\n",
    "        Es.append(float(split[0]))\n",
    "        ps.append(float(split[1]))\n",
    "\n",
    "Es = np.array(Es)\n",
    "ps = np.array(ps)\n",
    "\n",
    "flux = ps * total_flux['b8']\n",
    "diff_flux['b8'] = dict(x=Es, y=flux)"
   ]
  },
  {
   "cell_type": "code",
   "execution_count": 7,
   "metadata": {
    "collapsed": true
   },
   "outputs": [],
   "source": [
    "# hep\n",
    "Es = []\n",
    "ps = []\n",
    "\n",
    "with open(full_path('data/energy_spectra/hep.txt')) as f:\n",
    "    for line in f.readlines():\n",
    "        split = line.split()\n",
    "        Es.append(float(split[0]))\n",
    "        ps.append(float(split[1]))\n",
    "\n",
    "Es = np.array(Es)\n",
    "ps = np.array(ps)\n",
    "\n",
    "flux = ps * total_flux['hep']\n",
    "diff_flux['hep'] = dict(x=Es, y=flux)"
   ]
  },
  {
   "cell_type": "code",
   "execution_count": 9,
   "metadata": {},
   "outputs": [],
   "source": [
    "# CNO\n",
    "\n",
    "for cno in ['n13', 'o15', 'f17']:\n",
    "    Es = []\n",
    "    ps = []\n",
    "    with open(full_path('data/energy_spectra/%s.txt' % cno)) as f:\n",
    "        for line in f.readlines():\n",
    "            split = line.split()\n",
    "            Es.append(float(split[0]))\n",
    "            ps.append(float(split[1]))\n",
    "\n",
    "    Es = np.array(Es)\n",
    "    ps = np.array(ps)\n",
    "    flux = ps * total_flux[cno]\n",
    "    diff_flux[cno] = dict(x=Es, y=flux)\n"
   ]
  },
  {
   "cell_type": "markdown",
   "metadata": {},
   "source": [
    "## Plot flux"
   ]
  },
  {
   "cell_type": "code",
   "execution_count": 10,
   "metadata": {},
   "outputs": [
    {
     "data": {
      "image/png": "[encoded data removed]",
      "text/plain": [
       "<matplotlib.figure.Figure at 0x114b96d30>"
      ]
     },
     "metadata": {},
     "output_type": "display_data"
    }
   ],
   "source": [
    "plt.figure(figsize=(9,6))\n",
    "for label, flux in diff_flux.items():\n",
    "    plt.plot(flux['x'], flux['y'], label=label)\n",
    "plt.xlabel(\"E [MeV]\")\n",
    "plt.ylabel(\"flux [cm$^{-2}$s$^{-1}$MeV$^{-1}$]\")\n",
    "plt.xscale('log')\n",
    "plt.yscale('log')\n",
    "plt.xlim(0.1, 20)\n",
    "plt.ylim(10, 1e13)\n",
    "plt.legend(ncol=2)\n",
    "plt.title(\"Solar Neutrino Flux\")\n",
    "plt.savefig('solarnu_flux.pdf')\n",
    "plt.show()"
   ]
  },
  {
   "cell_type": "code",
   "execution_count": 12,
   "metadata": {},
   "outputs": [],
   "source": [
    "import pickle\n",
    "\n",
    "with open(full_path('data/solarnu_flux.pkl'), 'wb') as f:\n",
    "    pickle.dump(diff_flux, f)"
   ]
  },
  {
   "cell_type": "markdown",
   "metadata": {},
   "source": [
    "## Dump flux data to disk"
   ]
  },
  {
   "cell_type": "code",
   "execution_count": 13,
   "metadata": {
    "collapsed": true
   },
   "outputs": [],
   "source": [
    "# just dump the data points for the continuous spectra\n",
    "# save the E, flux single points for the lines\n",
    "import os\n",
    "\n",
    "fluxdir = full_path('data/flux_data')\n",
    "os.makedirs(fluxdir, exist_ok=True)\n",
    "\n",
    "lines = dict(pep=[1.44], be7=[0.3843, 0.8613])\n",
    "\n",
    "for label, flux in diff_flux.items():\n",
    "    if label in lines:\n",
    "        with open(os.path.join(fluxdir, '%s.csv' % label), 'w') as f:\n",
    "            f.write('E,flux\\n')\n",
    "            for line in lines[label]:\n",
    "                x = line\n",
    "                y = flux['y'][np.where(np.absolute(flux['x']-x) < 1e-8)][0]\n",
    "                f.write('%f,%f\\n' % (x, y))\n",
    "    else:\n",
    "        with open(os.path.join(fluxdir, '%s.csv' % label), 'w') as f:\n",
    "            f.write('E,flux\\n')\n",
    "            for x, y in zip(flux['x'], flux['y']):\n",
    "                f.write('%f,%f\\n' % (x, y))"
   ]
  },
  {
   "cell_type": "code",
   "execution_count": null,
   "metadata": {
    "collapsed": true
   },
   "outputs": [],
   "source": []
  },
  {
   "cell_type": "code",
   "execution_count": null,
   "metadata": {
    "collapsed": true
   },
   "outputs": [],
   "source": []
  }
 ],
 "metadata": {
  "kernelspec": {
   "display_name": "Python 3",
   "language": "python",
   "name": "python3"
  },
  "language_info": {
   "codemirror_mode": {
    "name": "ipython",
    "version": 3
   },
   "file_extension": ".py",
   "mimetype": "text/x-python",
   "name": "python",
   "nbconvert_exporter": "python",
   "pygments_lexer": "ipython3",
   "version": "3.6.2"
  }
 },
 "nbformat": 4,
 "nbformat_minor": 2
}
